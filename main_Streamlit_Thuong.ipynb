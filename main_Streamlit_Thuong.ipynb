{
 "cells": [
  {
   "cell_type": "code",
   "execution_count": 1,
   "metadata": {
    "colab": {
     "base_uri": "https://localhost:8080/"
    },
    "executionInfo": {
     "elapsed": 39624,
     "status": "ok",
     "timestamp": 1616582647037,
     "user": {
      "displayName": "Thuong Nguyen",
      "photoUrl": "https://lh3.googleusercontent.com/a-/AOh14GjmWj8ecMPZWCLiOah2OEAdu-WUfbOWq0LwZfHQ=s64",
      "userId": "04209928373840500612"
     },
     "user_tz": -120
    },
    "id": "hbQw_1iZVMaN",
    "outputId": "17595dec-38d0-4c73-896e-decd36110681"
   },
   "outputs": [
    {
     "name": "stdout",
     "output_type": "stream",
     "text": [
      "Mounted at /content/drive\n"
     ]
    }
   ],
   "source": [
    "# from google.colab import drive\n",
    "# drive.mount('/content/drive')"
   ]
  },
  {
   "cell_type": "code",
   "execution_count": 2,
   "metadata": {
    "colab": {
     "base_uri": "https://localhost:8080/"
    },
    "executionInfo": {
     "elapsed": 594,
     "status": "ok",
     "timestamp": 1616582650712,
     "user": {
      "displayName": "Thuong Nguyen",
      "photoUrl": "https://lh3.googleusercontent.com/a-/AOh14GjmWj8ecMPZWCLiOah2OEAdu-WUfbOWq0LwZfHQ=s64",
      "userId": "04209928373840500612"
     },
     "user_tz": -120
    },
    "id": "9ZBl4v4oVPTT",
    "outputId": "a003d353-ea62-48a9-dfdc-a3ec206eda94"
   },
   "outputs": [
    {
     "name": "stdout",
     "output_type": "stream",
     "text": [
      "/content/drive/MyDrive/testing/CSRNet-Keras\n"
     ]
    }
   ],
   "source": [
    "# %cd /content/drive/MyDrive/testing/CSRNet-Keras/"
   ]
  },
  {
   "cell_type": "code",
   "execution_count": 7,
   "metadata": {
    "ExecuteTime": {
     "end_time": "2021-03-24T13:57:06.895876Z",
     "start_time": "2021-03-24T13:57:06.857637Z"
    },
    "colab": {
     "base_uri": "https://localhost:8080/"
    },
    "executionInfo": {
     "elapsed": 1666,
     "status": "ok",
     "timestamp": 1616588580975,
     "user": {
      "displayName": "Thuong Nguyen",
      "photoUrl": "https://lh3.googleusercontent.com/a-/AOh14GjmWj8ecMPZWCLiOah2OEAdu-WUfbOWq0LwZfHQ=s64",
      "userId": "04209928373840500612"
     },
     "user_tz": -120
    },
    "id": "U8jntNuaVH4c",
    "outputId": "33ba15a9-4fbe-485f-c3bc-ff8053e2cd18",
    "scrolled": false
   },
   "outputs": [
    {
     "ename": "FileNotFoundError",
     "evalue": "[Errno 2] No such file or directory: '/tree/projects/final_project/part/AA'",
     "output_type": "error",
     "traceback": [
      "\u001b[0;31m---------------------------------------------------------------------------\u001b[0m",
      "\u001b[0;31mFileNotFoundError\u001b[0m                         Traceback (most recent call last)",
      "\u001b[0;32m<ipython-input-7-573db8d7e17f>\u001b[0m in \u001b[0;36m<module>\u001b[0;34m\u001b[0m\n\u001b[1;32m     21\u001b[0m \u001b[0mroot\u001b[0m \u001b[0;34m=\u001b[0m \u001b[0;34m'/tree/projects/final_project/part/A'\u001b[0m\u001b[0;34m\u001b[0m\u001b[0;34m\u001b[0m\u001b[0m\n\u001b[1;32m     22\u001b[0m \u001b[0;34m\u001b[0m\u001b[0m\n\u001b[0;32m---> 23\u001b[0;31m \u001b[0;32mif\u001b[0m \u001b[0mlen\u001b[0m\u001b[0;34m(\u001b[0m\u001b[0mos\u001b[0m\u001b[0;34m.\u001b[0m\u001b[0mlistdir\u001b[0m\u001b[0;34m(\u001b[0m\u001b[0mroot\u001b[0m \u001b[0;34m+\u001b[0m\u001b[0;34m'A'\u001b[0m\u001b[0;34m)\u001b[0m\u001b[0;34m)\u001b[0m \u001b[0;34m==\u001b[0m \u001b[0;36m0\u001b[0m\u001b[0;34m:\u001b[0m\u001b[0;34m\u001b[0m\u001b[0;34m\u001b[0m\u001b[0m\n\u001b[0m\u001b[1;32m     24\u001b[0m   \u001b[0mroot\u001b[0m\u001b[0;34m=\u001b[0m\u001b[0mroot\u001b[0m\u001b[0;34m+\u001b[0m\u001b[0;34m'B'\u001b[0m\u001b[0;34m\u001b[0m\u001b[0;34m\u001b[0m\u001b[0m\n\u001b[1;32m     25\u001b[0m \u001b[0;32melse\u001b[0m\u001b[0;34m:\u001b[0m\u001b[0;34m\u001b[0m\u001b[0;34m\u001b[0m\u001b[0m\n",
      "\u001b[0;31mFileNotFoundError\u001b[0m: [Errno 2] No such file or directory: '/tree/projects/final_project/part/AA'"
     ]
    }
   ],
   "source": [
    "import os\n",
    "import glob\n",
    "import cv2\n",
    "import time\n",
    "import random\n",
    "import shutil\n",
    "import numpy as np\n",
    "import matplotlib.pyplot as plt\n",
    "from keras.models import model_from_json\n",
    "from utils_gen import gen_paths_img_dm, gen_var_from_paths\n",
    "from utils_imgproc import norm_by_imagenet\n",
    "%matplotlib inline\n",
    "plt.ioff()\n",
    "\n",
    "\n",
    "# Settings\n",
    "net = 'CSRNet'\n",
    "\n",
    "\n",
    "# Checking paths if contains unseen images, whether belong to A or B folder:\n",
    "root = '/tree/projects/final_project/part/A'\n",
    "\n",
    "if len(os.listdir(root +'A')) == 0:\n",
    "    root=root+'B'\n",
    "else:\n",
    "    root=root +'A'\n",
    "\n",
    "# create paths from selected folder (A or B)\n",
    "img_new_paths=[]\n",
    "for img_path in glob.glob(os.path.join(root, '*.jpg')):\n",
    "  img_new_paths.append(img_path)\n",
    "img_new_paths\n",
    "\n",
    "# Generate raw images(normalized by imagenet rgb) and density maps\n",
    "test_x= gen_var_from_paths(img_new_paths[:], unit_len=None)\n",
    "test_x = norm_by_imagenet(test_x)  # Normalization on raw images in test set, those of training set are in image_preprocessing below.\n",
    "print('Test data size:', test_x.shape[0], len(img_new_paths))\n"
   ]
  },
  {
   "cell_type": "code",
   "execution_count": 3,
   "metadata": {
    "ExecuteTime": {
     "end_time": "2021-03-24T13:54:19.693406Z",
     "start_time": "2021-03-24T13:54:19.638819Z"
    },
    "colab": {
     "base_uri": "https://localhost:8080/"
    },
    "executionInfo": {
     "elapsed": 1481,
     "status": "ok",
     "timestamp": 1616589548841,
     "user": {
      "displayName": "Thuong Nguyen",
      "photoUrl": "https://lh3.googleusercontent.com/a-/AOh14GjmWj8ecMPZWCLiOah2OEAdu-WUfbOWq0LwZfHQ=s64",
      "userId": "04209928373840500612"
     },
     "user_tz": -120
    },
    "id": "Qyibt2RsVH6d",
    "outputId": "91b22466-052e-4dc5-8100-a38f4c390271",
    "scrolled": true
   },
   "outputs": [
    {
     "ename": "ValueError",
     "evalue": "Unknown layer: Functional",
     "output_type": "error",
     "traceback": [
      "\u001b[0;31m---------------------------------------------------------------------------\u001b[0m",
      "\u001b[0;31mValueError\u001b[0m                                Traceback (most recent call last)",
      "\u001b[0;32m<ipython-input-3-7aefdfb69f53>\u001b[0m in \u001b[0;36m<module>\u001b[0;34m\u001b[0m\n\u001b[1;32m      9\u001b[0m \u001b[0;34m\u001b[0m\u001b[0m\n\u001b[1;32m     10\u001b[0m \u001b[0;34m\u001b[0m\u001b[0m\n\u001b[0;32m---> 11\u001b[0;31m \u001b[0mmodel\u001b[0m \u001b[0;34m=\u001b[0m \u001b[0mmodel_from_json\u001b[0m\u001b[0;34m(\u001b[0m\u001b[0mopen\u001b[0m\u001b[0;34m(\u001b[0m\u001b[0;34m'models/{}.json'\u001b[0m\u001b[0;34m.\u001b[0m\u001b[0mformat\u001b[0m\u001b[0;34m(\u001b[0m\u001b[0mnet\u001b[0m\u001b[0;34m)\u001b[0m\u001b[0;34m,\u001b[0m \u001b[0;34m'r'\u001b[0m\u001b[0;34m)\u001b[0m\u001b[0;34m.\u001b[0m\u001b[0mread\u001b[0m\u001b[0;34m(\u001b[0m\u001b[0;34m)\u001b[0m\u001b[0;34m)\u001b[0m  \u001b[0;31m# I UNCOMMENTED THIS ONE AS THIS SHOULD LOAD THE ORIGINAL BEST WEIGHTS\u001b[0m\u001b[0;34m\u001b[0m\u001b[0;34m\u001b[0m\u001b[0m\n\u001b[0m\u001b[1;32m     12\u001b[0m \u001b[0mmodel\u001b[0m\u001b[0;34m.\u001b[0m\u001b[0mload_weights\u001b[0m\u001b[0;34m(\u001b[0m\u001b[0mos\u001b[0m\u001b[0;34m.\u001b[0m\u001b[0mpath\u001b[0m\u001b[0;34m.\u001b[0m\u001b[0mjoin\u001b[0m\u001b[0;34m(\u001b[0m\u001b[0mweights_dir_neo\u001b[0m\u001b[0;34m,\u001b[0m \u001b[0;34m'{}_best.hdf5'\u001b[0m\u001b[0;34m.\u001b[0m\u001b[0mformat\u001b[0m\u001b[0;34m(\u001b[0m\u001b[0mnet\u001b[0m\u001b[0;34m)\u001b[0m\u001b[0;34m)\u001b[0m\u001b[0;34m)\u001b[0m\u001b[0;34m\u001b[0m\u001b[0;34m\u001b[0m\u001b[0m\n\u001b[1;32m     13\u001b[0m \u001b[0;34m\u001b[0m\u001b[0m\n",
      "\u001b[0;32m/opt/anaconda3/lib/python3.7/site-packages/keras/engine/saving.py\u001b[0m in \u001b[0;36mmodel_from_json\u001b[0;34m(json_string, custom_objects)\u001b[0m\n\u001b[1;32m    662\u001b[0m     \u001b[0mconfig\u001b[0m \u001b[0;34m=\u001b[0m \u001b[0mjson\u001b[0m\u001b[0;34m.\u001b[0m\u001b[0mloads\u001b[0m\u001b[0;34m(\u001b[0m\u001b[0mjson_string\u001b[0m\u001b[0;34m)\u001b[0m\u001b[0;34m\u001b[0m\u001b[0;34m\u001b[0m\u001b[0m\n\u001b[1;32m    663\u001b[0m     \u001b[0;32mfrom\u001b[0m \u001b[0;34m.\u001b[0m\u001b[0;34m.\u001b[0m\u001b[0mlayers\u001b[0m \u001b[0;32mimport\u001b[0m \u001b[0mdeserialize\u001b[0m\u001b[0;34m\u001b[0m\u001b[0;34m\u001b[0m\u001b[0m\n\u001b[0;32m--> 664\u001b[0;31m     \u001b[0;32mreturn\u001b[0m \u001b[0mdeserialize\u001b[0m\u001b[0;34m(\u001b[0m\u001b[0mconfig\u001b[0m\u001b[0;34m,\u001b[0m \u001b[0mcustom_objects\u001b[0m\u001b[0;34m=\u001b[0m\u001b[0mcustom_objects\u001b[0m\u001b[0;34m)\u001b[0m\u001b[0;34m\u001b[0m\u001b[0;34m\u001b[0m\u001b[0m\n\u001b[0m\u001b[1;32m    665\u001b[0m \u001b[0;34m\u001b[0m\u001b[0m\n\u001b[1;32m    666\u001b[0m \u001b[0;34m\u001b[0m\u001b[0m\n",
      "\u001b[0;32m/opt/anaconda3/lib/python3.7/site-packages/keras/layers/__init__.py\u001b[0m in \u001b[0;36mdeserialize\u001b[0;34m(config, custom_objects)\u001b[0m\n\u001b[1;32m    166\u001b[0m                                     \u001b[0mmodule_objects\u001b[0m\u001b[0;34m=\u001b[0m\u001b[0mglobs\u001b[0m\u001b[0;34m,\u001b[0m\u001b[0;34m\u001b[0m\u001b[0;34m\u001b[0m\u001b[0m\n\u001b[1;32m    167\u001b[0m                                     \u001b[0mcustom_objects\u001b[0m\u001b[0;34m=\u001b[0m\u001b[0mcustom_objects\u001b[0m\u001b[0;34m,\u001b[0m\u001b[0;34m\u001b[0m\u001b[0;34m\u001b[0m\u001b[0m\n\u001b[0;32m--> 168\u001b[0;31m                                     printable_module_name='layer')\n\u001b[0m",
      "\u001b[0;32m/opt/anaconda3/lib/python3.7/site-packages/keras/utils/generic_utils.py\u001b[0m in \u001b[0;36mdeserialize_keras_object\u001b[0;34m(identifier, module_objects, custom_objects, printable_module_name)\u001b[0m\n\u001b[1;32m    138\u001b[0m             \u001b[0;32mif\u001b[0m \u001b[0mcls\u001b[0m \u001b[0;32mis\u001b[0m \u001b[0;32mNone\u001b[0m\u001b[0;34m:\u001b[0m\u001b[0;34m\u001b[0m\u001b[0;34m\u001b[0m\u001b[0m\n\u001b[1;32m    139\u001b[0m                 raise ValueError('Unknown ' + printable_module_name +\n\u001b[0;32m--> 140\u001b[0;31m                                  ': ' + class_name)\n\u001b[0m\u001b[1;32m    141\u001b[0m         \u001b[0;32mif\u001b[0m \u001b[0mhasattr\u001b[0m\u001b[0;34m(\u001b[0m\u001b[0mcls\u001b[0m\u001b[0;34m,\u001b[0m \u001b[0;34m'from_config'\u001b[0m\u001b[0;34m)\u001b[0m\u001b[0;34m:\u001b[0m\u001b[0;34m\u001b[0m\u001b[0;34m\u001b[0m\u001b[0m\n\u001b[1;32m    142\u001b[0m             \u001b[0mcustom_objects\u001b[0m \u001b[0;34m=\u001b[0m \u001b[0mcustom_objects\u001b[0m \u001b[0;32mor\u001b[0m \u001b[0;34m{\u001b[0m\u001b[0;34m}\u001b[0m\u001b[0;34m\u001b[0m\u001b[0;34m\u001b[0m\u001b[0m\n",
      "\u001b[0;31mValueError\u001b[0m: Unknown layer: Functional"
     ]
    }
   ],
   "source": [
    "# Analysis on results\n",
    "dis_idx = 16 if root=='part/B' else 0 # I UNCOMMENTED THIS ONE AS THIS SHOULD LOAD THE ORIGINAL BEST WEIGHTS\n",
    "\n",
    "# set condition to choose weight A or B\n",
    "if root=='part/B': \n",
    "  weights_dir_neo = \"weights_B_MSE_bestMAE8.31_Sun-May-19\" # Best weights for set B\n",
    "else:\n",
    "  weights_dir_neo = \"weights_A_MSE_bestMAE67.984_Thu-May-23\" # Best weights for set A\n",
    "\n",
    "\n",
    "model = model_from_json(open('models/{}.json'.format(net), 'r').read())  # I UNCOMMENTED THIS ONE AS THIS SHOULD LOAD THE ORIGINAL BEST WEIGHTS\n",
    "model.load_weights(os.path.join(weights_dir_neo, '{}_best.hdf5'.format(net)))\n",
    "\n",
    "ct_preds = []\n",
    "ct_gts = []\n",
    "for i in range(len(test_x[:])):\n",
    "    if i % 100 == 0:\n",
    "        print('{}/{}'.format(i, len(test_x)))\n",
    "    i += 0\n",
    "    test_x_display = np.squeeze(test_x[i])\n",
    "\n",
    "    pred = np.squeeze(model.predict(np.expand_dims(test_x_display, axis=0)))\n",
    "    ct_pred = np.sum(pred)\n",
    "\n",
    "    ct_preds.append(ct_pred)\n",
    "\n",
    "# plt.plot(ct_preds, 'r>')\n",
    "\n",
    "# plt.legend(['ct_preds'])\n",
    "# plt.title('Pred')\n",
    "# plt.show()\n"
   ]
  },
  {
   "cell_type": "code",
   "execution_count": null,
   "metadata": {
    "ExecuteTime": {
     "end_time": "2021-03-24T13:53:47.897328Z",
     "start_time": "2021-03-24T13:53:46.208Z"
    },
    "colab": {
     "base_uri": "https://localhost:8080/",
     "height": 225
    },
    "executionInfo": {
     "elapsed": 1145,
     "status": "ok",
     "timestamp": 1616589553058,
     "user": {
      "displayName": "Thuong Nguyen",
      "photoUrl": "https://lh3.googleusercontent.com/a-/AOh14GjmWj8ecMPZWCLiOah2OEAdu-WUfbOWq0LwZfHQ=s64",
      "userId": "04209928373840500612"
     },
     "user_tz": -120
    },
    "id": "48FgUYzuTGRT",
    "outputId": "f32ce6e4-45e1-4057-97e9-648abca7686d"
   },
   "outputs": [],
   "source": [
    "# Show image vs pred number of people\n",
    "for i in range(len(ct_preds)):\n",
    "  img=plt.imread(img_new_paths[i])\n",
    "  plt.imshow(img)\n",
    "  plt.title(f'predicted: {round(ct_preds[i])} people')\n",
    "  plt.axis('off')\n",
    "  print('-----------------------------------------------------------------------------------------')\n",
    "  plt.show()"
   ]
  },
  {
   "cell_type": "code",
   "execution_count": null,
   "metadata": {
    "ExecuteTime": {
     "end_time": "2021-03-24T13:53:47.906656Z",
     "start_time": "2021-03-24T13:53:47.202Z"
    },
    "colab": {
     "base_uri": "https://localhost:8080/"
    },
    "executionInfo": {
     "elapsed": 591,
     "status": "ok",
     "timestamp": 1616589494174,
     "user": {
      "displayName": "Thuong Nguyen",
      "photoUrl": "https://lh3.googleusercontent.com/a-/AOh14GjmWj8ecMPZWCLiOah2OEAdu-WUfbOWq0LwZfHQ=s64",
      "userId": "04209928373840500612"
     },
     "user_tz": -120
    },
    "id": "Uumvqd7TPiDd",
    "outputId": "91c5dc5e-070a-4f2d-929e-477e53e05299"
   },
   "outputs": [],
   "source": [
    "ct_preds"
   ]
  },
  {
   "cell_type": "code",
   "execution_count": 2,
   "metadata": {
    "ExecuteTime": {
     "end_time": "2021-03-24T13:53:48.091509Z",
     "start_time": "2021-03-24T13:53:48.083750Z"
    },
    "executionInfo": {
     "elapsed": 524,
     "status": "ok",
     "timestamp": 1616588722553,
     "user": {
      "displayName": "Thuong Nguyen",
      "photoUrl": "https://lh3.googleusercontent.com/a-/AOh14GjmWj8ecMPZWCLiOah2OEAdu-WUfbOWq0LwZfHQ=s64",
      "userId": "04209928373840500612"
     },
     "user_tz": -120
    },
    "id": "zZgAxMfqVH6i"
   },
   "outputs": [],
   "source": [
    "# a code block to erase image when the job is done.\n",
    "# for filepath in img_new_paths:\n",
    "#   os.remove(filepath)"
   ]
  },
  {
   "cell_type": "code",
   "execution_count": null,
   "metadata": {},
   "outputs": [],
   "source": []
  }
 ],
 "metadata": {
  "accelerator": "GPU",
  "colab": {
   "collapsed_sections": [],
   "name": "main_Streamlit_Thuong.ipynb",
   "provenance": [
    {
     "file_id": "1lRU9yV3adm2FwYiUCgLgGLoPm1PMk-_j",
     "timestamp": 1616335401995
    },
    {
     "file_id": "1mjS8IlPQxmDfkq531jf9VAvizXDRpW96",
     "timestamp": 1616317123220
    }
   ]
  },
  "kernelspec": {
   "display_name": "Python 3",
   "language": "python",
   "name": "python3"
  },
  "language_info": {
   "codemirror_mode": {
    "name": "ipython",
    "version": 3
   },
   "file_extension": ".py",
   "mimetype": "text/x-python",
   "name": "python",
   "nbconvert_exporter": "python",
   "pygments_lexer": "ipython3",
   "version": "3.7.7"
  },
  "latex_envs": {
   "LaTeX_envs_menu_present": true,
   "autoclose": false,
   "autocomplete": true,
   "bibliofile": "biblio.bib",
   "cite_by": "apalike",
   "current_citInitial": 1,
   "eqLabelWithNumbers": true,
   "eqNumInitial": 1,
   "hotkeys": {
    "equation": "Ctrl-E",
    "itemize": "Ctrl-I"
   },
   "labels_anchors": false,
   "latex_user_defs": false,
   "report_style_numbering": false,
   "user_envs_cfg": false
  },
  "toc": {
   "base_numbering": 1,
   "nav_menu": {},
   "number_sections": true,
   "sideBar": true,
   "skip_h1_title": false,
   "title_cell": "Table of Contents",
   "title_sidebar": "Contents",
   "toc_cell": false,
   "toc_position": {},
   "toc_section_display": true,
   "toc_window_display": false
  },
  "varInspector": {
   "cols": {
    "lenName": 16,
    "lenType": 16,
    "lenVar": 40
   },
   "kernels_config": {
    "python": {
     "delete_cmd_postfix": "",
     "delete_cmd_prefix": "del ",
     "library": "var_list.py",
     "varRefreshCmd": "print(var_dic_list())"
    },
    "r": {
     "delete_cmd_postfix": ") ",
     "delete_cmd_prefix": "rm(",
     "library": "var_list.r",
     "varRefreshCmd": "cat(var_dic_list()) "
    }
   },
   "types_to_exclude": [
    "module",
    "function",
    "builtin_function_or_method",
    "instance",
    "_Feature"
   ],
   "window_display": false
  }
 },
 "nbformat": 4,
 "nbformat_minor": 1
}
